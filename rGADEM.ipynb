{
 "cells": [
  {
   "cell_type": "markdown",
   "metadata": {},
   "source": [
    "# rGADEM \n",
    "- document: https://bioconductor.org/packages/release/bioc/vignettes/rGADEM/inst/doc/rGADEM.pdf\n",
    "- paper: https://www.ncbi.nlm.nih.gov/pubmed/19193149"
   ]
  },
  {
   "cell_type": "code",
   "execution_count": 77,
   "metadata": {},
   "outputs": [
    {
     "name": "stderr",
     "output_type": "stream",
     "text": [
      "Bioconductor version 3.7 (BiocInstaller 1.30.0), ?biocLite for help\n",
      "A newer version of Bioconductor is available for this version of R,\n",
      "  ?BiocUpgrade for help\n"
     ]
    }
   ],
   "source": [
    "source(\"https://bioconductor.org/biocLite.R\") \n",
    "library(BiocInstaller) "
   ]
  },
  {
   "cell_type": "code",
   "execution_count": 62,
   "metadata": {},
   "outputs": [
    {
     "name": "stderr",
     "output_type": "stream",
     "text": [
      "Bioconductor version 3.8 (BiocManager 1.30.4), R 3.5.2 (2018-12-20)\n",
      "Installing package(s) 'BSgenome.Scerevisiae.UCSC.sacCer3'\n",
      "installation path not writeable, unable to update packages: MASS, Matrix, boot,\n",
      "  cluster, foreign, mgcv, nlme, rpart\n",
      "Update old packages: 'BH', 'BiocInstaller', 'IRdisplay', 'IRkernel',\n",
      "  'Matching', 'PerformanceAnalytics', 'R6', 'Rcpp', 'RcppEigen', 'TSP',\n",
      "  'assertthat', 'backports', 'betareg', 'bookdown', 'broom', 'callr', 'car',\n",
      "  'clipr', 'colorspace', 'commonmark', 'covr', 'cowplot', 'curl', 'data.table',\n",
      "  'dbplyr', 'deSolve', 'devEMF', 'devtools', 'digest', 'dplyr', 'e1071',\n",
      "  'emmeans', 'evaluate', 'exactRankTests', 'fansi', 'flexmix', 'flexsurv',\n",
      "  'forcats', 'foreach', 'fs', 'generics', 'ggformula', 'ggplot2', 'ggpubr',\n",
      "  'ggrepel', 'ggsignif', 'ggstance', 'git2r', 'glue', 'gmailr', 'gtable',\n",
      "  'haven', 'hexbin', 'highr', 'hms', 'httpuv', 'httr', 'hunspell', 'inum',\n",
      "  'irr', 'iterators', 'jsonlite', 'keras', 'knitr', 'labelled', 'lava',\n",
      "  'lazyeval', 'libcoin', 'lme4', 'lmerTest', 'lmtest', 'lpSolve', 'magrittr',\n",
      "  'markdown', 'maxLik', 'mime', 'modelr', 'mosaic', 'muhaz', 'mvtnorm',\n",
      "  'numDeriv', 'openssl', 'openxlsx', 'partykit', 'pillar', 'pkgbuild',\n",
      "  'polynom', 'purrr', 'quadprog', 'quantreg', 'readr', 'readxl', 'recipes',\n",
      "  'repr', 'reprex', 'reticulate', 'rio', 'rlang', 'rmarkdown', 'rprojroot',\n",
      "  'rstudioapi', 'rversions', 'rvest', 'sandwich', 'seriation', 'shiny',\n",
      "  'sourcetools', 'stringdist', 'stringi', 'stringr', 'survey', 'survival',\n",
      "  'survminer', 'tableone', 'tensorflow', 'testthat', 'tibble', 'tidyr',\n",
      "  'timereg', 'tinytex', 'tpr', 'whisker', 'xfun', 'xml2', 'xtable', 'zip',\n",
      "  'zoo'\n"
     ]
    }
   ],
   "source": [
    "# BiocManager::install(\"RCurl\")\n",
    "# BiocManager::install(\"rGADEM\")\n",
    "# BiocManager::install(\"BSgenome.Scerevisiae.UCSC.sacCer3\")"
   ]
  },
  {
   "cell_type": "code",
   "execution_count": 68,
   "metadata": {},
   "outputs": [],
   "source": [
    "library(RCurl) \n",
    "library(rGADEM)  \n",
    "library(BSgenome.Scerevisiae.UCSC.sacCer3)"
   ]
  },
  {
   "cell_type": "code",
   "execution_count": 69,
   "metadata": {},
   "outputs": [],
   "source": [
    "BED <- read.table(\"MACS2Result/swi6_mock_corrected_peaks.narrowPeak\",header=FALSE,sep=\"\\t\") \n",
    "BED <- data.frame(chr=as.factor(BED[,1]),start=as.numeric(BED[,2]),end=as.numeric(BED[,3])) "
   ]
  },
  {
   "cell_type": "code",
   "execution_count": 72,
   "metadata": {},
   "outputs": [],
   "source": [
    "rgBED <-IRanges(start=BED[,2],end=BED[,3]) \n",
    "Sequences <- RangedData(rgBED,space=BED[,1]) "
   ]
  },
  {
   "cell_type": "code",
   "execution_count": 79,
   "metadata": {},
   "outputs": [
    {
     "data": {
      "text/plain": [
       "RangedData with 55 rows and 0 value columns across 11 spaces\n",
       "       space          ranges   |\n",
       "    <factor>       <IRanges>   |\n",
       "1      chrII   392610-392692   |\n",
       "2     chrIII   228896-228968   |\n",
       "3      chrIV   357252-357326   |\n",
       "4      chrIV 1080632-1080683   |\n",
       "5      chrIV 1362455-1362518   |\n",
       "6      chrIV 1490211-1490342   |\n",
       "7      chrIX   127853-127930   |\n",
       "8       chrM       2562-2616   |\n",
       "9       chrM       5183-5249   |\n",
       "...      ...             ... ...\n",
       "47   chrXIII   306683-306733   |\n",
       "48   chrXIII   661825-661924   |\n",
       "49   chrXIII   661992-662126   |\n",
       "50   chrXIII   880585-880648   |\n",
       "51    chrXIV     87471-87657   |\n",
       "52     chrXV           19-71   |\n",
       "53     chrXV   312701-312793   |\n",
       "54     chrXV   797064-797235   |\n",
       "55    chrXVI     67096-67244   |"
      ]
     },
     "metadata": {},
     "output_type": "display_data"
    }
   ],
   "source": [
    "Sequences"
   ]
  },
  {
   "cell_type": "code",
   "execution_count": 73,
   "metadata": {},
   "outputs": [
    {
     "name": "stdout",
     "output_type": "stream",
     "text": [
      "Retrieving sequences... Done.\n",
      "*** Start C Programm ***\n",
      "==============================================================================================\n",
      "input sequence file:  \n",
      "number of sequences and average length:\t\t\t\t55  89.2\n",
      "Use pgf method to approximate llr null distribution\n",
      "parameters estimated from sequences in:  \n",
      "\n",
      "number of GA generations & population size:\t\t\t5 100\n",
      "\n",
      "PWM score p-value cutoff for binding site declaration:\t\t2.000000e-04\n",
      "ln(E-value) cutoff for motif declaration:\t\t\t0.000000\n",
      "\n",
      "number of EM steps:\t\t\t\t\t\t40\n",
      "minimal no. sites considered for a motif:\t\t\t2\n",
      "\n",
      "[a,c,g,t] frequencies in input data:\t\t\t\t0.303846 0.196154 0.196154 0.303846\n",
      "==============================================================================================\n",
      "*** Running an unseeded analysis ***\n",
      "GADEM cycle  1: enumerate and count k-mers... top 3  4, 5-mers: 10 1 12\n",
      "Done.\n",
      "Initializing GA... Done.\n",
      "GADEM cycle[  1] generation[  1] number of unique motif: 1\n",
      "   spacedDyad: aacgcnnnnnnnntcgcg   motifConsensus: rACGCGAAAwTTyTskss    0.20 fitness:    6.97\n",
      "\n",
      "GADEM cycle[  1] generation[  2] number of unique motif: 1\n",
      "   spacedDyad: cgcgngcgcg           motifConsensus: nGkGwGGGkG            0.90 fitness:    5.37\n",
      "\n",
      "GADEM cycle[  1] generation[  3] number of unique motif: 1\n",
      "   spacedDyad: cgcgngcgcg           motifConsensus: nGkGwGGGkG            0.90 fitness:    5.37\n",
      "\n",
      "GADEM cycle[  1] generation[  4] number of unique motif: 1\n",
      "   spacedDyad: cgcgngcgcg           motifConsensus: nGkGwGGGkG            0.90 fitness:    5.37\n",
      "\n",
      "GADEM cycle[  1] generation[  5] number of unique motif: 1\n",
      "   spacedDyad: cgcgngcgcg           motifConsensus: nGkGwGGGkG            0.90 fitness:    5.37\n",
      "\n",
      "*** Running an unseeded analysis ***\n",
      "GADEM cycle  2: enumerate and count k-mers... top 3  4, 5-mers: 10 1 10\n",
      "Done.\n",
      "Initializing GA... Done.\n",
      "GADEM cycle[  2] generation[  1] number of unique motif: 1\n",
      "   spacedDyad: acgcgnnnnnnnnnncgc   motifConsensus: ACryrAArwAyTTCTssm    1.00 fitness:    8.14\n",
      "\n",
      "GADEM cycle[  2] generation[  2] number of unique motif: 1\n",
      "   spacedDyad: acgcgnnnnnnnnnncgc   motifConsensus: ACryrAArwAyTTCTssm    1.00 fitness:    8.14\n",
      "\n",
      "GADEM cycle[  2] generation[  3] number of unique motif: 1\n",
      "   spacedDyad: cgcnnnnnnnntcgcg     motifConsensus: sGmCAAGAATTTCGss      0.40 fitness:    4.77\n",
      "\n",
      "GADEM cycle[  2] generation[  4] number of unique motif: 1\n",
      "   spacedDyad: cgcnnnnnnnntcgcg     motifConsensus: sGmCAAGAATTTCGss      0.40 fitness:    4.77\n",
      "\n",
      "GADEM cycle[  2] generation[  5] number of unique motif: 1\n",
      "   spacedDyad: cgcnnnnnnnntcgcg     motifConsensus: sGmCAAGAATTTCGss      0.40 fitness:    4.77\n",
      "\n"
     ]
    }
   ],
   "source": [
    "gadem <- rGADEM::GADEM(Sequences,verbose=1,genome=BSgenome.Scerevisiae.UCSC.sacCer3) "
   ]
  },
  {
   "cell_type": "code",
   "execution_count": 120,
   "metadata": {},
   "outputs": [
    {
     "data": {
      "text/html": [
       "<ol>\n",
       "\t<li>'TGGGAGGGGG'</li>\n",
       "\t<li>'TGGGAGGGGGACCGAACCC'</li>\n",
       "\t<li>'CGGGAGGGGGACCGAACCCC'</li>\n",
       "\t<li>'CGGGAGGGGGTCTCTCA'</li>\n",
       "\t<li>'AGGGAGGGGGTCCCTCACTC'</li>\n",
       "\t<li>'TGGGTGTGGGT'</li>\n",
       "\t<li>'TGTGTGGGTGTGGTGTGTGG'</li>\n",
       "\t<li>'TGTGTGGGTGTGGTGTGTGT'</li>\n",
       "\t<li>'CGTATGGGGGATCGG'</li>\n",
       "\t<li>'GGTGAGGGTGGCAGCAAGCT'</li>\n",
       "\t<li>'AGTGTAGGTGGAGTTAAGTG'</li>\n",
       "\t<li>'AGGGAGGGGTCCCTCACTCC'</li>\n",
       "\t<li>'GGTGTGTGTGTGTGTGTGGG'</li>\n",
       "\t<li>'CGTAAAGGGGTAAACAAGTC'</li>\n",
       "\t<li>'TGTAAGTGTGGCAGGATCGC'</li>\n",
       "</ol>\n"
      ],
      "text/latex": [
       "\\begin{enumerate}\n",
       "\\item 'TGGGAGGGGG'\n",
       "\\item 'TGGGAGGGGGACCGAACCC'\n",
       "\\item 'CGGGAGGGGGACCGAACCCC'\n",
       "\\item 'CGGGAGGGGGTCTCTCA'\n",
       "\\item 'AGGGAGGGGGTCCCTCACTC'\n",
       "\\item 'TGGGTGTGGGT'\n",
       "\\item 'TGTGTGGGTGTGGTGTGTGG'\n",
       "\\item 'TGTGTGGGTGTGGTGTGTGT'\n",
       "\\item 'CGTATGGGGGATCGG'\n",
       "\\item 'GGTGAGGGTGGCAGCAAGCT'\n",
       "\\item 'AGTGTAGGTGGAGTTAAGTG'\n",
       "\\item 'AGGGAGGGGTCCCTCACTCC'\n",
       "\\item 'GGTGTGTGTGTGTGTGTGGG'\n",
       "\\item 'CGTAAAGGGGTAAACAAGTC'\n",
       "\\item 'TGTAAGTGTGGCAGGATCGC'\n",
       "\\end{enumerate}\n"
      ],
      "text/markdown": [
       "1. 'TGGGAGGGGG'\n",
       "2. 'TGGGAGGGGGACCGAACCC'\n",
       "3. 'CGGGAGGGGGACCGAACCCC'\n",
       "4. 'CGGGAGGGGGTCTCTCA'\n",
       "5. 'AGGGAGGGGGTCCCTCACTC'\n",
       "6. 'TGGGTGTGGGT'\n",
       "7. 'TGTGTGGGTGTGGTGTGTGG'\n",
       "8. 'TGTGTGGGTGTGGTGTGTGT'\n",
       "9. 'CGTATGGGGGATCGG'\n",
       "10. 'GGTGAGGGTGGCAGCAAGCT'\n",
       "11. 'AGTGTAGGTGGAGTTAAGTG'\n",
       "12. 'AGGGAGGGGTCCCTCACTCC'\n",
       "13. 'GGTGTGTGTGTGTGTGTGGG'\n",
       "14. 'CGTAAAGGGGTAAACAAGTC'\n",
       "15. 'TGTAAGTGTGGCAGGATCGC'\n",
       "\n",
       "\n"
      ],
      "text/plain": [
       "[[1]]\n",
       "[1] \"TGGGAGGGGG\"\n",
       "\n",
       "[[2]]\n",
       "[1] \"TGGGAGGGGGACCGAACCC\"\n",
       "\n",
       "[[3]]\n",
       "[1] \"CGGGAGGGGGACCGAACCCC\"\n",
       "\n",
       "[[4]]\n",
       "[1] \"CGGGAGGGGGTCTCTCA\"\n",
       "\n",
       "[[5]]\n",
       "[1] \"AGGGAGGGGGTCCCTCACTC\"\n",
       "\n",
       "[[6]]\n",
       "[1] \"TGGGTGTGGGT\"\n",
       "\n",
       "[[7]]\n",
       "[1] \"TGTGTGGGTGTGGTGTGTGG\"\n",
       "\n",
       "[[8]]\n",
       "[1] \"TGTGTGGGTGTGGTGTGTGT\"\n",
       "\n",
       "[[9]]\n",
       "[1] \"CGTATGGGGGATCGG\"\n",
       "\n",
       "[[10]]\n",
       "[1] \"GGTGAGGGTGGCAGCAAGCT\"\n",
       "\n",
       "[[11]]\n",
       "[1] \"AGTGTAGGTGGAGTTAAGTG\"\n",
       "\n",
       "[[12]]\n",
       "[1] \"AGGGAGGGGTCCCTCACTCC\"\n",
       "\n",
       "[[13]]\n",
       "[1] \"GGTGTGTGTGTGTGTGTGGG\"\n",
       "\n",
       "[[14]]\n",
       "[1] \"CGTAAAGGGGTAAACAAGTC\"\n",
       "\n",
       "[[15]]\n",
       "[1] \"TGTAAGTGTGGCAGGATCGC\"\n"
      ]
     },
     "metadata": {},
     "output_type": "display_data"
    }
   ],
   "source": [
    "lapply(c(1:15), function(x) {\n",
    "    return(gadem@motifList[[1]]@alignList[x][[1]]@seq )\n",
    "})"
   ]
  },
  {
   "cell_type": "code",
   "execution_count": 104,
   "metadata": {},
   "outputs": [
    {
     "data": {
      "text/html": [
       "'TGGGAGGGGG'"
      ],
      "text/latex": [
       "'TGGGAGGGGG'"
      ],
      "text/markdown": [
       "'TGGGAGGGGG'"
      ],
      "text/plain": [
       "[1] \"TGGGAGGGGG\""
      ]
     },
     "metadata": {},
     "output_type": "display_data"
    }
   ],
   "source": [
    "gadem@motifList[[1]]@alignList[1][[1]]@seq "
   ]
  },
  {
   "cell_type": "code",
   "execution_count": 74,
   "metadata": {},
   "outputs": [
    {
     "data": {
      "image/png": "[encoded data removed]",
      "text/plain": [
       "plot without title"
      ]
     },
     "metadata": {},
     "output_type": "display_data"
    }
   ],
   "source": [
    "plot(gadem@motifList[[1]]) "
   ]
  }
 ],
 "metadata": {
  "kernelspec": {
   "display_name": "R",
   "language": "R",
   "name": "ir"
  },
  "language_info": {
   "codemirror_mode": "r",
   "file_extension": ".r",
   "mimetype": "text/x-r-source",
   "name": "R",
   "pygments_lexer": "r",
   "version": "3.5.2"
  }
 },
 "nbformat": 4,
 "nbformat_minor": 2
}
